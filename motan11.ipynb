{
 "cells": [
  {
   "cell_type": "markdown",
   "id": "04565b25",
   "metadata": {},
   "source": [
    "# Dictionary"
   ]
  },
  {
   "cell_type": "code",
   "execution_count": 1,
   "id": "5d219744",
   "metadata": {},
   "outputs": [],
   "source": [
    "\n",
    "dict = {'name':'motan','age':25,'countary':'india','city':'nagpur'}"
   ]
  },
  {
   "cell_type": "code",
   "execution_count": 2,
   "id": "cf0f2966",
   "metadata": {},
   "outputs": [
    {
     "data": {
      "text/plain": [
       "{'name': 'motan', 'age': 25, 'countary': 'india', 'city': 'nagpur'}"
      ]
     },
     "execution_count": 2,
     "metadata": {},
     "output_type": "execute_result"
    }
   ],
   "source": [
    "dict"
   ]
  },
  {
   "cell_type": "markdown",
   "id": "434652cf",
   "metadata": {},
   "source": [
    "# Clear ()"
   ]
  },
  {
   "cell_type": "code",
   "execution_count": 3,
   "id": "83ab8f86",
   "metadata": {},
   "outputs": [],
   "source": [
    "#This function removes all element from the dictionary."
   ]
  },
  {
   "cell_type": "code",
   "execution_count": 4,
   "id": "9242d354",
   "metadata": {},
   "outputs": [],
   "source": [
    "\n",
    "dict = {'name':'motan','age':25,'countary':'india','city':'nagpur'}"
   ]
  },
  {
   "cell_type": "code",
   "execution_count": 5,
   "id": "cf6c34f4",
   "metadata": {},
   "outputs": [
    {
     "data": {
      "text/plain": [
       "{'name': 'motan', 'age': 25, 'countary': 'india', 'city': 'nagpur'}"
      ]
     },
     "execution_count": 5,
     "metadata": {},
     "output_type": "execute_result"
    }
   ],
   "source": [
    "dict"
   ]
  },
  {
   "cell_type": "code",
   "execution_count": 6,
   "id": "92be306c",
   "metadata": {},
   "outputs": [],
   "source": [
    "\n",
    "dict.clear()"
   ]
  },
  {
   "cell_type": "code",
   "execution_count": 7,
   "id": "b02159a3",
   "metadata": {},
   "outputs": [
    {
     "data": {
      "text/plain": [
       "{}"
      ]
     },
     "execution_count": 7,
     "metadata": {},
     "output_type": "execute_result"
    }
   ],
   "source": [
    "\n",
    "dict"
   ]
  },
  {
   "cell_type": "markdown",
   "id": "c128d6bd",
   "metadata": {},
   "source": [
    "# Copy ()"
   ]
  },
  {
   "cell_type": "code",
   "execution_count": 8,
   "id": "78ca2016",
   "metadata": {},
   "outputs": [],
   "source": [
    "#This function returns a shallow copy of the dictionary."
   ]
  },
  {
   "cell_type": "code",
   "execution_count": 9,
   "id": "9fa7ef1a",
   "metadata": {},
   "outputs": [],
   "source": [
    "dict = {'name':'motan','age':25,'countary':'india','city':'nagpur'}"
   ]
  },
  {
   "cell_type": "code",
   "execution_count": 10,
   "id": "026ca2bf",
   "metadata": {},
   "outputs": [
    {
     "data": {
      "text/plain": [
       "{'name': 'motan', 'age': 25, 'countary': 'india', 'city': 'nagpur'}"
      ]
     },
     "execution_count": 10,
     "metadata": {},
     "output_type": "execute_result"
    }
   ],
   "source": [
    "dict"
   ]
  },
  {
   "cell_type": "code",
   "execution_count": 11,
   "id": "0fe33d64",
   "metadata": {},
   "outputs": [
    {
     "data": {
      "text/plain": [
       "{'name': 'motan', 'age': 25, 'countary': 'india', 'city': 'nagpur'}"
      ]
     },
     "execution_count": 11,
     "metadata": {},
     "output_type": "execute_result"
    }
   ],
   "source": [
    "dict.copy()"
   ]
  },
  {
   "cell_type": "code",
   "execution_count": 12,
   "id": "b1ef61d1",
   "metadata": {},
   "outputs": [
    {
     "data": {
      "text/plain": [
       "{'name': 'motan', 'age': 25, 'countary': 'india', 'city': 'nagpur'}"
      ]
     },
     "execution_count": 12,
     "metadata": {},
     "output_type": "execute_result"
    }
   ],
   "source": [
    "dict"
   ]
  },
  {
   "cell_type": "markdown",
   "id": "13ac0c74",
   "metadata": {},
   "source": [
    "# Fromkey()"
   ]
  },
  {
   "cell_type": "code",
   "execution_count": 13,
   "id": "b4983c46",
   "metadata": {},
   "outputs": [],
   "source": [
    "#this function creates a new dictionary with keys from seq values set to the value"
   ]
  },
  {
   "cell_type": "code",
   "execution_count": 14,
   "id": "c6d39149",
   "metadata": {},
   "outputs": [],
   "source": [
    "dict = {'name':'motan','age':25,'countary':'india','city':'nagpur'}"
   ]
  },
  {
   "cell_type": "code",
   "execution_count": 15,
   "id": "5156c7da",
   "metadata": {},
   "outputs": [
    {
     "name": "stdout",
     "output_type": "stream",
     "text": [
      "{'age': {'28'}}\n"
     ]
    }
   ],
   "source": [
    "dict2 = {'age'}\n",
    "dict3 ={'28'}\n",
    "new_dict = dict.fromkeys(dict2,dict3)\n",
    "print(new_dict)"
   ]
  },
  {
   "cell_type": "markdown",
   "id": "e1739be5",
   "metadata": {},
   "source": [
    "# get()"
   ]
  },
  {
   "cell_type": "code",
   "execution_count": 16,
   "id": "0c02adfb",
   "metadata": {},
   "outputs": [],
   "source": [
    "#return the value for key if key is in the dictionary , otherwise it return default."
   ]
  },
  {
   "cell_type": "code",
   "execution_count": 17,
   "id": "ebdec2df",
   "metadata": {},
   "outputs": [],
   "source": [
    "dict = {'name':'motan','age':25,'countary':'india','city':'nagpur'}"
   ]
  },
  {
   "cell_type": "code",
   "execution_count": 18,
   "id": "3e70a20a",
   "metadata": {},
   "outputs": [
    {
     "data": {
      "text/plain": [
       "{'name': 'motan', 'age': 25, 'countary': 'india', 'city': 'nagpur'}"
      ]
     },
     "execution_count": 18,
     "metadata": {},
     "output_type": "execute_result"
    }
   ],
   "source": [
    "dict"
   ]
  },
  {
   "cell_type": "code",
   "execution_count": 19,
   "id": "72ca8223",
   "metadata": {},
   "outputs": [
    {
     "data": {
      "text/plain": [
       "25"
      ]
     },
     "execution_count": 19,
     "metadata": {},
     "output_type": "execute_result"
    }
   ],
   "source": [
    "\n",
    "dict.get('age')"
   ]
  },
  {
   "cell_type": "markdown",
   "id": "b72615df",
   "metadata": {},
   "source": [
    "# items()"
   ]
  },
  {
   "cell_type": "code",
   "execution_count": 20,
   "id": "e08ddea1",
   "metadata": {},
   "outputs": [],
   "source": [
    "#this method returns a view object that dispalys a list of dictionary key value tuple pairs."
   ]
  },
  {
   "cell_type": "code",
   "execution_count": 21,
   "id": "ada82f7b",
   "metadata": {},
   "outputs": [
    {
     "data": {
      "text/plain": [
       "dict_items([('name', 'motan'), ('age', 25), ('countary', 'india'), ('city', 'nagpur')])"
      ]
     },
     "execution_count": 21,
     "metadata": {},
     "output_type": "execute_result"
    }
   ],
   "source": [
    "\n",
    "dict.items()"
   ]
  },
  {
   "cell_type": "markdown",
   "id": "d63cf7ff",
   "metadata": {},
   "source": [
    "# keys()"
   ]
  },
  {
   "cell_type": "code",
   "execution_count": 22,
   "id": "3d94e4fe",
   "metadata": {},
   "outputs": [],
   "source": [
    "#Returns a view object that displays a list of all the keys in the dictionary."
   ]
  },
  {
   "cell_type": "code",
   "execution_count": 23,
   "id": "919b4f4c",
   "metadata": {},
   "outputs": [
    {
     "data": {
      "text/plain": [
       "dict_keys(['name', 'age', 'countary', 'city'])"
      ]
     },
     "execution_count": 23,
     "metadata": {},
     "output_type": "execute_result"
    }
   ],
   "source": [
    "\n",
    "dict.keys()"
   ]
  },
  {
   "cell_type": "markdown",
   "id": "12197122",
   "metadata": {},
   "source": [
    "# Pop"
   ]
  },
  {
   "cell_type": "code",
   "execution_count": 24,
   "id": "64dfdd84",
   "metadata": {},
   "outputs": [],
   "source": [
    "#it removes the specified key and returns the corresponding value.if the key is not found , default is returned if provided,otherwise keyerror is raised.\n"
   ]
  },
  {
   "cell_type": "code",
   "execution_count": 25,
   "id": "679a90db",
   "metadata": {},
   "outputs": [
    {
     "data": {
      "text/plain": [
       "25"
      ]
     },
     "execution_count": 25,
     "metadata": {},
     "output_type": "execute_result"
    }
   ],
   "source": [
    "dict.pop('age')"
   ]
  },
  {
   "cell_type": "code",
   "execution_count": 26,
   "id": "77fe6ffe",
   "metadata": {},
   "outputs": [
    {
     "data": {
      "text/plain": [
       "{'name': 'motan', 'countary': 'india', 'city': 'nagpur'}"
      ]
     },
     "execution_count": 26,
     "metadata": {},
     "output_type": "execute_result"
    }
   ],
   "source": [
    "dict"
   ]
  },
  {
   "cell_type": "markdown",
   "id": "2cf6fe09",
   "metadata": {},
   "source": [
    "# Popitem()"
   ]
  },
  {
   "cell_type": "code",
   "execution_count": 27,
   "id": "6ef8a77c",
   "metadata": {},
   "outputs": [],
   "source": [
    "#it removes and return an arbitrary key value pair from the dictionary. if the dictioanry is empty , a keyerror is raised.\n"
   ]
  },
  {
   "cell_type": "code",
   "execution_count": 28,
   "id": "d46f2978",
   "metadata": {},
   "outputs": [],
   "source": [
    "dict = {'name':'motan','age':25,'countary':'india','city':'nagpur'}"
   ]
  },
  {
   "cell_type": "code",
   "execution_count": 29,
   "id": "7e3f5ebb",
   "metadata": {},
   "outputs": [],
   "source": [
    "item = dict.popitem()"
   ]
  },
  {
   "cell_type": "code",
   "execution_count": 30,
   "id": "7d428379",
   "metadata": {},
   "outputs": [
    {
     "data": {
      "text/plain": [
       "('city', 'nagpur')"
      ]
     },
     "execution_count": 30,
     "metadata": {},
     "output_type": "execute_result"
    }
   ],
   "source": [
    "item"
   ]
  },
  {
   "cell_type": "code",
   "execution_count": 31,
   "id": "7de12c4f",
   "metadata": {},
   "outputs": [
    {
     "data": {
      "text/plain": [
       "{'name': 'motan', 'age': 25, 'countary': 'india'}"
      ]
     },
     "execution_count": 31,
     "metadata": {},
     "output_type": "execute_result"
    }
   ],
   "source": [
    "dict"
   ]
  },
  {
   "cell_type": "markdown",
   "id": "dea37e21",
   "metadata": {},
   "source": [
    "# Setdefault"
   ]
  },
  {
   "cell_type": "code",
   "execution_count": 32,
   "id": "d5f70268",
   "metadata": {},
   "outputs": [],
   "source": [
    "#This method returns the value of the specified key.if the key does not exist,insert the key with default value."
   ]
  },
  {
   "cell_type": "code",
   "execution_count": 33,
   "id": "d0b50fb5",
   "metadata": {},
   "outputs": [
    {
     "data": {
      "text/plain": [
       "{'name': 'motan', 'age': 25, 'countary': 'india'}"
      ]
     },
     "execution_count": 33,
     "metadata": {},
     "output_type": "execute_result"
    }
   ],
   "source": [
    "dict"
   ]
  },
  {
   "cell_type": "code",
   "execution_count": 34,
   "id": "33c5183a",
   "metadata": {},
   "outputs": [],
   "source": [
    "value = dict.setdefault('count','aus')"
   ]
  },
  {
   "cell_type": "code",
   "execution_count": 35,
   "id": "33511504",
   "metadata": {},
   "outputs": [
    {
     "data": {
      "text/plain": [
       "'aus'"
      ]
     },
     "execution_count": 35,
     "metadata": {},
     "output_type": "execute_result"
    }
   ],
   "source": [
    "value"
   ]
  },
  {
   "cell_type": "code",
   "execution_count": 36,
   "id": "03356301",
   "metadata": {},
   "outputs": [
    {
     "data": {
      "text/plain": [
       "{'name': 'motan', 'age': 25, 'countary': 'india', 'count': 'aus'}"
      ]
     },
     "execution_count": 36,
     "metadata": {},
     "output_type": "execute_result"
    }
   ],
   "source": [
    "dict"
   ]
  },
  {
   "cell_type": "markdown",
   "id": "2fb4108d",
   "metadata": {},
   "source": [
    "# Update"
   ]
  },
  {
   "cell_type": "code",
   "execution_count": 37,
   "id": "08fb1b17",
   "metadata": {},
   "outputs": [],
   "source": [
    "#Updates the dictionary with elements from another dictionary object or from an iterable of key value pairs."
   ]
  },
  {
   "cell_type": "code",
   "execution_count": 38,
   "id": "eeb5c380",
   "metadata": {},
   "outputs": [
    {
     "data": {
      "text/plain": [
       "{'name': 'motan', 'age': 25, 'countary': 'india', 'count': 'aus'}"
      ]
     },
     "execution_count": 38,
     "metadata": {},
     "output_type": "execute_result"
    }
   ],
   "source": [
    "dict"
   ]
  },
  {
   "cell_type": "code",
   "execution_count": 39,
   "id": "a7a9ea07",
   "metadata": {},
   "outputs": [
    {
     "data": {
      "text/plain": [
       "dict_values(['motan', 25, 'india', 'aus'])"
      ]
     },
     "execution_count": 39,
     "metadata": {},
     "output_type": "execute_result"
    }
   ],
   "source": [
    "dict.values()"
   ]
  },
  {
   "cell_type": "code",
   "execution_count": null,
   "id": "eebb0b32",
   "metadata": {},
   "outputs": [],
   "source": []
  }
 ],
 "metadata": {
  "kernelspec": {
   "display_name": "Python 3 (ipykernel)",
   "language": "python",
   "name": "python3"
  },
  "language_info": {
   "codemirror_mode": {
    "name": "ipython",
    "version": 3
   },
   "file_extension": ".py",
   "mimetype": "text/x-python",
   "name": "python",
   "nbconvert_exporter": "python",
   "pygments_lexer": "ipython3",
   "version": "3.11.5"
  }
 },
 "nbformat": 4,
 "nbformat_minor": 5
}
